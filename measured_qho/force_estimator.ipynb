{
 "cells": [
  {
   "cell_type": "code",
   "execution_count": 1,
   "metadata": {},
   "outputs": [],
   "source": [
    "import mpmath as mp\n",
    "from sympy import *\n",
    "init_printing()"
   ]
  },
  {
   "cell_type": "markdown",
   "metadata": {},
   "source": [
    "# Context"
   ]
  },
  {
   "cell_type": "markdown",
   "metadata": {},
   "source": [
    "We consider a QHO driven by a classical time-dependent force, whose time evolution is governed by\n",
    "$$\\hat{H}(t) = \\frac{1}{2}\\hat{q}^2 + \\frac{1}{2}\\hat{p}^2 - x(t)\\hat{q}$$\n",
    "One measures the position of the oscillator at a regular time interval $\\tau$, i.e. at times $t_1 = \\tau, t_2 = 2\\tau, \\ldots$\n",
    "From the resulting position measurements $q_1, q_2, \\ldots$, one wants to estimate the time-dependent force $x(t)$. Since $\\hat{q}''(t) + \\hat{q}(t) = x(t)$. If one had continuous measurements of the position $\\widetilde{q}(t)$, one may therefore try to estimate $x(t)$ by $\\widetilde{q}''(t) + \\widetilde{q}(t)$. Since one only has discrete measurements, the second derivative must be replaced by a finite difference. For instance, using a symmetric finite difference involving 3 points, an estimate of $x(t_j)$ would be:\n",
    "$$\\frac{q_{j - 1} - 2q_j + q_{j + 1}}{\\tau^2} + q_j = \\frac{q_{j - 1} + (\\tau^2 - 2)q_j + q_{j + 1}}{\\tau^2}$$\n",
    "More generally, the finite difference may involve $2p + 1$ points ($p \\geq 1$), in which case the estimator would read:\n",
    "$$\\frac{\\sum_{k = 1}^pc^{(p)}_k\\left(q_{j + k} + q_{j - k}\\right) + \\left(\\tau^2 + c^{(p)}_0\\right)q_j}{\\tau^2}$$\n",
    "where $c^{(p)}_0, \\ldots, c^{(p)}_p$ are coefficients depending on $p$ (see https://en.wikipedia.org/wiki/Finite_difference_coefficient ). The following holds:\n",
    "$$\n",
    "\\begin{align*}\n",
    "    c^{(p)}_k & = -\\frac{2(-1)^kn!^2}{k^2(n - k)!(n + k)!} \\quad 1 \\leq k \\leq p\\\\\n",
    "    c^{(p)}_0 & = -2\\sum_{k = 1}^pc^{(p)}_k\n",
    "\\end{align*}\n",
    "$$\n",
    "\n",
    "The variance of this estimator may be computed. The measurement imprecision and backaction contributions read:\n",
    "$$\n",
    "\\begin{align*}\n",
    "    & \\frac{1}{\\tau^4}\\left[\\frac{1}{4}\\left(\\sum_{1 \\leq k \\leq p}\\left(c^{(p)}_k\\right)^2\\left(\\frac{1}{\\sigma_{j + k}^2} + \\frac{1}{\\sigma_{j - k}^2}\\right) + \\frac{\\left(\\tau^2 + c^{(p)}_0\\right)^2}{\\sigma_j^2}\\right)\\right.\\\\\n",
    "    %\n",
    "    & \\qquad + \\sum_{1 \\leq n \\leq j - p - 1}\\left(\\left(\\tau^2 + c^{(p)}_0\\right)k_{j, n} + \\sum_{1 \\leq l \\leq p}c^{(p)}_l\\left(k_{j - l, n} + k_{j + l, n}\\right)\\right)\\sigma_n^2\\\\\n",
    "    %\n",
    "    & \\left.\\qquad + \\sum_{j - p \\leq n \\leq j + p - 1}\\left(\\sum_{n + 1 \\leq l \\leq j + p}c^{(p)}_{|l - j|}k_{l, n}\\right)^2\\sigma_n^2\\right]\n",
    "\\end{align*}\n",
    "$$\n",
    "\n",
    "We call \"the boundary terms\" the quantity:\n",
    "$$\\frac{1}{\\tau}\\left[\\frac{1}{4}\\left(\\left(c^{(p)}_p\\right)^2\\frac{1}{\\sigma_{j - p}^2} + \\sum_{1 \\leq k \\leq p - 1}\\left(c^{(p)}_k\\right)^2\\left(\\frac{1}{\\sigma_{j + k}^2} + \\frac{1}{\\sigma_{j - k}^2}\\right) + \\frac{\\left(\\tau^2 + c^{(p)}_0\\right)^2}{\\sigma_j^2}\\right) + \\sum_{j - p \\leq n \\leq j + p - 1}\\left(\\sum_{n + 1 \\leq l \\leq j + p}c^{(p)}_{|l - j|}k_{l, n}\\right)^2\\sigma_n^2\\right]$$\n",
    "\n",
    "We expect it to be lower-bounded by a constant, as can be easily verified for $p = 1$."
   ]
  },
  {
   "cell_type": "markdown",
   "metadata": {},
   "source": [
    "# Routines"
   ]
  },
  {
   "cell_type": "markdown",
   "metadata": {},
   "source": [
    "Coefficients for finite-dimensional approximation of second derivative"
   ]
  },
  {
   "cell_type": "code",
   "execution_count": 2,
   "metadata": {},
   "outputs": [],
   "source": [
    "def fd_2_coeffs(n):\n",
    "    right_coeffs = [ -2 * (-1) ** k * factorial(n) ** 2 / (k ** 2 * factorial(n + k) * factorial(n - k)) for k in range(1, n + 1) ]\n",
    "    return right_coeffs[::-1] + [ -2 * sum(right_coeffs) ] + right_coeffs"
   ]
  },
  {
   "cell_type": "markdown",
   "metadata": {},
   "source": [
    "Compute coefficients of $\\sigma_j^2$ (\"boundary terms\")"
   ]
  },
  {
   "cell_type": "code",
   "execution_count": 3,
   "metadata": {},
   "outputs": [],
   "source": [
    "def boundary_sigma_sq_coefficients(fd_order, tau):\n",
    "    fd_coeffs = fd_2_coeffs(fd_order)\n",
    "    return [\n",
    "        fd_coeffs[i] ** 2 / 4\n",
    "        for i in range(0, 2 * fd_order)\n",
    "    ], [\n",
    "        sum([ ((tau ** 2 if j == fd_order else 0) + fd_coeffs[j]) * sin(-(j - i + 1) * tau) for j in range(i, 2 * fd_order + 1) ]) ** 2\n",
    "        for i in range(1, 2 * fd_order + 1)\n",
    "    ]\n",
    "\n",
    "def numeric_boundary_sigma_sq_coefficients(fd_order, tau):\n",
    "    fd_coeffs = [ mp.mpf(fd_coeff) for fd_coeff in fd_2_coeffs(fd_order) ]\n",
    "    return [\n",
    "        fd_coeffs[i] ** 2 / 4\n",
    "        for i in range(0, 2 * fd_order)\n",
    "    ], [\n",
    "        sum([ ((tau ** 2 if j == fd_order else 0) + fd_coeffs[j]) * mp.sin(-(j - i + 1) * tau) for j in range(i, 2 * fd_order + 1) ]) ** 2\n",
    "        for i in range(1, 2 * fd_order + 1)\n",
    "    ]"
   ]
  },
  {
   "cell_type": "markdown",
   "metadata": {},
   "source": [
    "Deduce lower bound for the contribution of boundary terms (optimizing over all $\\sigma_j$)"
   ]
  },
  {
   "cell_type": "code",
   "execution_count": 4,
   "metadata": {},
   "outputs": [],
   "source": [
    "def boundary_sigma_sq_lower_bound(fd_order, tau):\n",
    "    return sum([ 2 * mp.sqrt(a * b) for (a, b) in zip(*numeric_boundary_sigma_sq_coefficients(fd_order, tau)) ]) / tau"
   ]
  },
  {
   "cell_type": "markdown",
   "metadata": {},
   "source": [
    "# Tests"
   ]
  },
  {
   "cell_type": "markdown",
   "metadata": {},
   "source": [
    "### Finite-difference coefficients. See http://web.media.mit.edu/~crtaylor/calculator.html for comparison."
   ]
  },
  {
   "cell_type": "code",
   "execution_count": 5,
   "metadata": {},
   "outputs": [
    {
     "data": {
      "image/png": "[encoded data removed]",
      "text/latex": [
       "$$\\left [ - \\frac{1}{12}, \\quad \\frac{4}{3}, \\quad - \\frac{5}{2}, \\quad \\frac{4}{3}, \\quad - \\frac{1}{12}\\right ]$$"
      ],
      "text/plain": [
       "[-1/12, 4/3, -5/2, 4/3, -1/12]"
      ]
     },
     "execution_count": 5,
     "metadata": {},
     "output_type": "execute_result"
    }
   ],
   "source": [
    "fd_2_coeffs(2)"
   ]
  },
  {
   "cell_type": "markdown",
   "metadata": {},
   "source": [
    "### Lower bound for the contribution of the boundary terms"
   ]
  },
  {
   "cell_type": "markdown",
   "metadata": {},
   "source": [
    "Symbolic coefficients"
   ]
  },
  {
   "cell_type": "code",
   "execution_count": 6,
   "metadata": {},
   "outputs": [],
   "source": [
    "tau = Symbol(\"\\\\tau\")"
   ]
  },
  {
   "cell_type": "code",
   "execution_count": 7,
   "metadata": {},
   "outputs": [
    {
     "data": {
      "image/png": "[encoded data removed]",
      "text/latex": [
       "$$\\left ( \\left [ \\frac{1}{576}, \\quad \\frac{4}{9}, \\quad \\frac{25}{16}, \\quad \\frac{4}{9}\\right ], \\quad \\left [ \\left(- \\left(\\tau^{2} - \\frac{5}{2}\\right) \\sin{\\left (2 \\tau \\right )} - \\frac{4 \\sin{\\left (\\tau \\right )}}{3} - \\frac{4 \\sin{\\left (3 \\tau \\right )}}{3} + \\frac{\\sin{\\left (4 \\tau \\right )}}{12}\\right)^{2}, \\quad \\left(- \\left(\\tau^{2} - \\frac{5}{2}\\right) \\sin{\\left (\\tau \\right )} - \\frac{4 \\sin{\\left (2 \\tau \\right )}}{3} + \\frac{\\sin{\\left (3 \\tau \\right )}}{12}\\right)^{2}, \\quad \\left(- \\frac{4 \\sin{\\left (\\tau \\right )}}{3} + \\frac{\\sin{\\left (2 \\tau \\right )}}{12}\\right)^{2}, \\quad \\frac{\\sin^{2}{\\left (\\tau \\right )}}{144}\\right ]\\right )$$"
      ],
      "text/plain": [
       "⎛                       ⎡                                                     \n",
       "⎜⎡            25     ⎤  ⎢⎛  ⎛    2   5⎞               4⋅sin(\\tau)   4⋅sin(3⋅\\t\n",
       "⎜⎢1/576, 4/9, ──, 4/9⎥, ⎢⎜- ⎜\\tau  - ─⎟⋅sin(2⋅\\tau) - ─────────── - ──────────\n",
       "⎝⎣            16     ⎦  ⎣⎝  ⎝        2⎠                    3              3   \n",
       "\n",
       "                  2                                                         2 \n",
       "au)   sin(4⋅\\tau)⎞   ⎛  ⎛    2   5⎞             4⋅sin(2⋅\\tau)   sin(3⋅\\tau)⎞  \n",
       "─── + ───────────⎟ , ⎜- ⎜\\tau  - ─⎟⋅sin(\\tau) - ───────────── + ───────────⎟ ,\n",
       "           12    ⎠   ⎝  ⎝        2⎠                   3              12    ⎠  \n",
       "\n",
       "                              2     2      ⎤⎞\n",
       " ⎛  4⋅sin(\\tau)   sin(2⋅\\tau)⎞   sin (\\tau)⎥⎟\n",
       " ⎜- ─────────── + ───────────⎟ , ──────────⎥⎟\n",
       " ⎝       3             12    ⎠      144    ⎦⎠"
      ]
     },
     "execution_count": 7,
     "metadata": {},
     "output_type": "execute_result"
    }
   ],
   "source": [
    "boundary_sigma_sq_coefficients(2, tau)"
   ]
  },
  {
   "cell_type": "markdown",
   "metadata": {},
   "source": [
    "Numeric coefficients"
   ]
  },
  {
   "cell_type": "code",
   "execution_count": 8,
   "metadata": {},
   "outputs": [
    {
     "data": {
      "text/plain": [
       "([mpf('0.001736111111111111'),\n",
       "  mpf('0.44444444444444442'),\n",
       "  mpf('1.5625'),\n",
       "  mpf('0.44444444444444442')],\n",
       " [mpf('2.0410567596640563e-8'),\n",
       "  mpf('0.0015896751904158327'),\n",
       "  mpf('0.32388786460825675'),\n",
       "  mpf('0.0015961725490689592')])"
      ]
     },
     "execution_count": 8,
     "metadata": {},
     "output_type": "execute_result"
    }
   ],
   "source": [
    "numeric_boundary_sigma_sq_coefficients(2, 0.5)"
   ]
  },
  {
   "cell_type": "code",
   "execution_count": 9,
   "metadata": {},
   "outputs": [
    {
     "data": {
      "text/plain": [
       "[(mpf('0.001736111111111111'), mpf('2.0410567596640563e-8')),\n",
       " (mpf('0.44444444444444442'), mpf('0.0015896751904158327')),\n",
       " (mpf('1.5625'), mpf('0.32388786460825675')),\n",
       " (mpf('0.44444444444444442'), mpf('0.0015961725490689592'))]"
      ]
     },
     "execution_count": 9,
     "metadata": {},
     "output_type": "execute_result"
    }
   ],
   "source": [
    "list(zip(*numeric_boundary_sigma_sq_coefficients(2, 0.5)) )"
   ]
  },
  {
   "cell_type": "markdown",
   "metadata": {},
   "source": [
    "Lower bound"
   ]
  },
  {
   "cell_type": "code",
   "execution_count": 10,
   "metadata": {},
   "outputs": [
    {
     "data": {
      "text/plain": [
       "mpf('1.9999666676666497')"
      ]
     },
     "execution_count": 10,
     "metadata": {},
     "output_type": "execute_result"
    }
   ],
   "source": [
    "boundary_sigma_sq_lower_bound(1, 0.01)"
   ]
  },
  {
   "cell_type": "code",
   "execution_count": 11,
   "metadata": {},
   "outputs": [
    {
     "data": {
      "text/plain": [
       "mpf('4.9590594279604119')"
      ]
     },
     "execution_count": 11,
     "metadata": {},
     "output_type": "execute_result"
    }
   ],
   "source": [
    "boundary_sigma_sq_lower_bound(10, 0.01)"
   ]
  },
  {
   "cell_type": "code",
   "execution_count": 12,
   "metadata": {},
   "outputs": [
    {
     "data": {
      "text/plain": [
       "mpf('5.6354146018292761')"
      ]
     },
     "execution_count": 12,
     "metadata": {},
     "output_type": "execute_result"
    }
   ],
   "source": [
    "boundary_sigma_sq_lower_bound(100, 0.01)"
   ]
  },
  {
   "cell_type": "code",
   "execution_count": null,
   "metadata": {},
   "outputs": [],
   "source": [
    "boundary_sigma_sq_lower_bound(500, 0.01)"
   ]
  }
 ],
 "metadata": {
  "kernelspec": {
   "display_name": "Python 3",
   "language": "python",
   "name": "python3"
  },
  "language_info": {
   "codemirror_mode": {
    "name": "ipython",
    "version": 3
   },
   "file_extension": ".py",
   "mimetype": "text/x-python",
   "name": "python",
   "nbconvert_exporter": "python",
   "pygments_lexer": "ipython3",
   "version": "3.7.0"
  }
 },
 "nbformat": 4,
 "nbformat_minor": 2
}
